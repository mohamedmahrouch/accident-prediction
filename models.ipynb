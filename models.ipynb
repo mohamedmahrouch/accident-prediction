{
 "cells": [
  {
   "cell_type": "markdown",
   "metadata": {},
   "source": [
    "1. Chargement des données\n"
   ]
  },
  {
   "cell_type": "code",
   "execution_count": 1,
   "metadata": {},
   "outputs": [
    {
     "data": {
      "text/html": [
       "<div>\n",
       "<style scoped>\n",
       "    .dataframe tbody tr th:only-of-type {\n",
       "        vertical-align: middle;\n",
       "    }\n",
       "\n",
       "    .dataframe tbody tr th {\n",
       "        vertical-align: top;\n",
       "    }\n",
       "\n",
       "    .dataframe thead th {\n",
       "        text-align: right;\n",
       "    }\n",
       "</style>\n",
       "<table border=\"1\" class=\"dataframe\">\n",
       "  <thead>\n",
       "    <tr style=\"text-align: right;\">\n",
       "      <th></th>\n",
       "      <th>Accident_Index</th>\n",
       "      <th>Date</th>\n",
       "      <th>Day_of_Week</th>\n",
       "      <th>Junction_Control</th>\n",
       "      <th>Junction_Detail</th>\n",
       "      <th>Accident_Severity</th>\n",
       "      <th>Latitude</th>\n",
       "      <th>Light_Conditions</th>\n",
       "      <th>Local_Authority_(District)</th>\n",
       "      <th>Carriageway_Hazards</th>\n",
       "      <th>...</th>\n",
       "      <th>Number_of_Casualties</th>\n",
       "      <th>Number_of_Vehicles</th>\n",
       "      <th>Police_Force</th>\n",
       "      <th>Road_Surface_Conditions</th>\n",
       "      <th>Road_Type</th>\n",
       "      <th>Speed_limit</th>\n",
       "      <th>Time</th>\n",
       "      <th>Urban_or_Rural_Area</th>\n",
       "      <th>Weather_Conditions</th>\n",
       "      <th>Vehicle_Type</th>\n",
       "    </tr>\n",
       "  </thead>\n",
       "  <tbody>\n",
       "    <tr>\n",
       "      <th>0</th>\n",
       "      <td>200901BS70001</td>\n",
       "      <td>1/1/2021</td>\n",
       "      <td>Thursday</td>\n",
       "      <td>Give way or uncontrolled</td>\n",
       "      <td>T or staggered junction</td>\n",
       "      <td>Serious</td>\n",
       "      <td>51.512273</td>\n",
       "      <td>Daylight</td>\n",
       "      <td>Kensington and Chelsea</td>\n",
       "      <td>Other object on road</td>\n",
       "      <td>...</td>\n",
       "      <td>1</td>\n",
       "      <td>2</td>\n",
       "      <td>Metropolitan Police</td>\n",
       "      <td>Dry</td>\n",
       "      <td>One way street</td>\n",
       "      <td>30</td>\n",
       "      <td>15:11</td>\n",
       "      <td>Urban</td>\n",
       "      <td>Fine no high winds</td>\n",
       "      <td>Car</td>\n",
       "    </tr>\n",
       "    <tr>\n",
       "      <th>1</th>\n",
       "      <td>200901BS70002</td>\n",
       "      <td>1/5/2021</td>\n",
       "      <td>Monday</td>\n",
       "      <td>Give way or uncontrolled</td>\n",
       "      <td>Crossroads</td>\n",
       "      <td>Serious</td>\n",
       "      <td>51.514399</td>\n",
       "      <td>Daylight</td>\n",
       "      <td>Kensington and Chelsea</td>\n",
       "      <td>Other object on road</td>\n",
       "      <td>...</td>\n",
       "      <td>11</td>\n",
       "      <td>2</td>\n",
       "      <td>Metropolitan Police</td>\n",
       "      <td>Wet or damp</td>\n",
       "      <td>Single carriageway</td>\n",
       "      <td>30</td>\n",
       "      <td>10:59</td>\n",
       "      <td>Urban</td>\n",
       "      <td>Fine no high winds</td>\n",
       "      <td>Taxi/Private hire car</td>\n",
       "    </tr>\n",
       "    <tr>\n",
       "      <th>2</th>\n",
       "      <td>200901BS70003</td>\n",
       "      <td>1/4/2021</td>\n",
       "      <td>Sunday</td>\n",
       "      <td>Give way or uncontrolled</td>\n",
       "      <td>T or staggered junction</td>\n",
       "      <td>Slight</td>\n",
       "      <td>51.486668</td>\n",
       "      <td>Daylight</td>\n",
       "      <td>Kensington and Chelsea</td>\n",
       "      <td>Other object on road</td>\n",
       "      <td>...</td>\n",
       "      <td>1</td>\n",
       "      <td>2</td>\n",
       "      <td>Metropolitan Police</td>\n",
       "      <td>Dry</td>\n",
       "      <td>Single carriageway</td>\n",
       "      <td>30</td>\n",
       "      <td>14:19</td>\n",
       "      <td>Urban</td>\n",
       "      <td>Fine no high winds</td>\n",
       "      <td>Taxi/Private hire car</td>\n",
       "    </tr>\n",
       "    <tr>\n",
       "      <th>3</th>\n",
       "      <td>200901BS70004</td>\n",
       "      <td>1/5/2021</td>\n",
       "      <td>Monday</td>\n",
       "      <td>Auto traffic signal</td>\n",
       "      <td>T or staggered junction</td>\n",
       "      <td>Serious</td>\n",
       "      <td>51.507804</td>\n",
       "      <td>Daylight</td>\n",
       "      <td>Kensington and Chelsea</td>\n",
       "      <td>Other object on road</td>\n",
       "      <td>...</td>\n",
       "      <td>1</td>\n",
       "      <td>2</td>\n",
       "      <td>Metropolitan Police</td>\n",
       "      <td>Frost or ice</td>\n",
       "      <td>Single carriageway</td>\n",
       "      <td>30</td>\n",
       "      <td>8:10</td>\n",
       "      <td>Urban</td>\n",
       "      <td>Other</td>\n",
       "      <td>Motorcycle over 500cc</td>\n",
       "    </tr>\n",
       "    <tr>\n",
       "      <th>4</th>\n",
       "      <td>200901BS70005</td>\n",
       "      <td>1/6/2021</td>\n",
       "      <td>Tuesday</td>\n",
       "      <td>Auto traffic signal</td>\n",
       "      <td>Crossroads</td>\n",
       "      <td>Serious</td>\n",
       "      <td>51.482076</td>\n",
       "      <td>Darkness - lights lit</td>\n",
       "      <td>Kensington and Chelsea</td>\n",
       "      <td>Other object on road</td>\n",
       "      <td>...</td>\n",
       "      <td>1</td>\n",
       "      <td>2</td>\n",
       "      <td>Metropolitan Police</td>\n",
       "      <td>Dry</td>\n",
       "      <td>Single carriageway</td>\n",
       "      <td>30</td>\n",
       "      <td>17:25</td>\n",
       "      <td>Urban</td>\n",
       "      <td>Fine no high winds</td>\n",
       "      <td>Car</td>\n",
       "    </tr>\n",
       "  </tbody>\n",
       "</table>\n",
       "<p>5 rows × 21 columns</p>\n",
       "</div>"
      ],
      "text/plain": [
       "  Accident_Index      Date Day_of_Week          Junction_Control  \\\n",
       "0  200901BS70001  1/1/2021    Thursday  Give way or uncontrolled   \n",
       "1  200901BS70002  1/5/2021      Monday  Give way or uncontrolled   \n",
       "2  200901BS70003  1/4/2021      Sunday  Give way or uncontrolled   \n",
       "3  200901BS70004  1/5/2021      Monday       Auto traffic signal   \n",
       "4  200901BS70005  1/6/2021     Tuesday       Auto traffic signal   \n",
       "\n",
       "           Junction_Detail Accident_Severity   Latitude  \\\n",
       "0  T or staggered junction           Serious  51.512273   \n",
       "1               Crossroads           Serious  51.514399   \n",
       "2  T or staggered junction            Slight  51.486668   \n",
       "3  T or staggered junction           Serious  51.507804   \n",
       "4               Crossroads           Serious  51.482076   \n",
       "\n",
       "        Light_Conditions Local_Authority_(District)   Carriageway_Hazards  \\\n",
       "0               Daylight     Kensington and Chelsea  Other object on road   \n",
       "1               Daylight     Kensington and Chelsea  Other object on road   \n",
       "2               Daylight     Kensington and Chelsea  Other object on road   \n",
       "3               Daylight     Kensington and Chelsea  Other object on road   \n",
       "4  Darkness - lights lit     Kensington and Chelsea  Other object on road   \n",
       "\n",
       "   ...  Number_of_Casualties  Number_of_Vehicles         Police_Force  \\\n",
       "0  ...                     1                   2  Metropolitan Police   \n",
       "1  ...                    11                   2  Metropolitan Police   \n",
       "2  ...                     1                   2  Metropolitan Police   \n",
       "3  ...                     1                   2  Metropolitan Police   \n",
       "4  ...                     1                   2  Metropolitan Police   \n",
       "\n",
       "  Road_Surface_Conditions           Road_Type Speed_limit   Time  \\\n",
       "0                     Dry      One way street          30  15:11   \n",
       "1             Wet or damp  Single carriageway          30  10:59   \n",
       "2                     Dry  Single carriageway          30  14:19   \n",
       "3            Frost or ice  Single carriageway          30   8:10   \n",
       "4                     Dry  Single carriageway          30  17:25   \n",
       "\n",
       "  Urban_or_Rural_Area  Weather_Conditions           Vehicle_Type  \n",
       "0               Urban  Fine no high winds                    Car  \n",
       "1               Urban  Fine no high winds  Taxi/Private hire car  \n",
       "2               Urban  Fine no high winds  Taxi/Private hire car  \n",
       "3               Urban               Other  Motorcycle over 500cc  \n",
       "4               Urban  Fine no high winds                    Car  \n",
       "\n",
       "[5 rows x 21 columns]"
      ]
     },
     "execution_count": 1,
     "metadata": {},
     "output_type": "execute_result"
    }
   ],
   "source": [
    "import pandas as pd\n",
    "\n",
    "# Charger les données\n",
    "data = pd.read_csv('data_cleaned.csv')\n",
    "\n",
    "# Afficher les premières lignes\n",
    "data.head()"
   ]
  },
  {
   "cell_type": "markdown",
   "metadata": {},
   "source": [
    "2. Exploration des données\n"
   ]
  },
  {
   "cell_type": "markdown",
   "metadata": {},
   "source": [
    "Informations générales sur le dataset\n"
   ]
  },
  {
   "cell_type": "code",
   "execution_count": 2,
   "metadata": {},
   "outputs": [
    {
     "name": "stdout",
     "output_type": "stream",
     "text": [
      "<class 'pandas.core.frame.DataFrame'>\n",
      "RangeIndex: 307973 entries, 0 to 307972\n",
      "Data columns (total 21 columns):\n",
      " #   Column                      Non-Null Count   Dtype  \n",
      "---  ------                      --------------   -----  \n",
      " 0   Accident_Index              307973 non-null  object \n",
      " 1   Date                        307973 non-null  object \n",
      " 2   Day_of_Week                 307973 non-null  object \n",
      " 3   Junction_Control            307973 non-null  object \n",
      " 4   Junction_Detail             307973 non-null  object \n",
      " 5   Accident_Severity           307973 non-null  object \n",
      " 6   Latitude                    307973 non-null  float64\n",
      " 7   Light_Conditions            307973 non-null  object \n",
      " 8   Local_Authority_(District)  307973 non-null  object \n",
      " 9   Carriageway_Hazards         307973 non-null  object \n",
      " 10  Longitude                   307973 non-null  float64\n",
      " 11  Number_of_Casualties        307973 non-null  int64  \n",
      " 12  Number_of_Vehicles          307973 non-null  int64  \n",
      " 13  Police_Force                307973 non-null  object \n",
      " 14  Road_Surface_Conditions     307973 non-null  object \n",
      " 15  Road_Type                   307973 non-null  object \n",
      " 16  Speed_limit                 307973 non-null  int64  \n",
      " 17  Time                        307973 non-null  object \n",
      " 18  Urban_or_Rural_Area         307973 non-null  object \n",
      " 19  Weather_Conditions          307973 non-null  object \n",
      " 20  Vehicle_Type                307973 non-null  object \n",
      "dtypes: float64(2), int64(3), object(16)\n",
      "memory usage: 49.3+ MB\n"
     ]
    }
   ],
   "source": [
    "data.info()"
   ]
  },
  {
   "cell_type": "markdown",
   "metadata": {},
   "source": [
    "Vérification des valeurs manquantes\n"
   ]
  },
  {
   "cell_type": "code",
   "execution_count": 3,
   "metadata": {},
   "outputs": [
    {
     "data": {
      "text/plain": [
       "Accident_Index                0\n",
       "Date                          0\n",
       "Day_of_Week                   0\n",
       "Junction_Control              0\n",
       "Junction_Detail               0\n",
       "Accident_Severity             0\n",
       "Latitude                      0\n",
       "Light_Conditions              0\n",
       "Local_Authority_(District)    0\n",
       "Carriageway_Hazards           0\n",
       "Longitude                     0\n",
       "Number_of_Casualties          0\n",
       "Number_of_Vehicles            0\n",
       "Police_Force                  0\n",
       "Road_Surface_Conditions       0\n",
       "Road_Type                     0\n",
       "Speed_limit                   0\n",
       "Time                          0\n",
       "Urban_or_Rural_Area           0\n",
       "Weather_Conditions            0\n",
       "Vehicle_Type                  0\n",
       "dtype: int64"
      ]
     },
     "execution_count": 3,
     "metadata": {},
     "output_type": "execute_result"
    }
   ],
   "source": [
    "data.isnull().sum()\n"
   ]
  },
  {
   "cell_type": "markdown",
   "metadata": {},
   "source": [
    "Vérification des doublons\n"
   ]
  },
  {
   "cell_type": "code",
   "execution_count": 4,
   "metadata": {},
   "outputs": [
    {
     "data": {
      "text/plain": [
       "1"
      ]
     },
     "execution_count": 4,
     "metadata": {},
     "output_type": "execute_result"
    }
   ],
   "source": [
    "data.duplicated().sum()"
   ]
  },
  {
   "cell_type": "markdown",
   "metadata": {},
   "source": [
    "Statistiques descriptives pour les variables numériques\n"
   ]
  },
  {
   "cell_type": "code",
   "execution_count": 5,
   "metadata": {},
   "outputs": [
    {
     "data": {
      "text/html": [
       "<div>\n",
       "<style scoped>\n",
       "    .dataframe tbody tr th:only-of-type {\n",
       "        vertical-align: middle;\n",
       "    }\n",
       "\n",
       "    .dataframe tbody tr th {\n",
       "        vertical-align: top;\n",
       "    }\n",
       "\n",
       "    .dataframe thead th {\n",
       "        text-align: right;\n",
       "    }\n",
       "</style>\n",
       "<table border=\"1\" class=\"dataframe\">\n",
       "  <thead>\n",
       "    <tr style=\"text-align: right;\">\n",
       "      <th></th>\n",
       "      <th>Latitude</th>\n",
       "      <th>Longitude</th>\n",
       "      <th>Number_of_Casualties</th>\n",
       "      <th>Number_of_Vehicles</th>\n",
       "      <th>Speed_limit</th>\n",
       "    </tr>\n",
       "  </thead>\n",
       "  <tbody>\n",
       "    <tr>\n",
       "      <th>count</th>\n",
       "      <td>307973.000000</td>\n",
       "      <td>307973.000000</td>\n",
       "      <td>307973.000000</td>\n",
       "      <td>307973.000000</td>\n",
       "      <td>307973.000000</td>\n",
       "    </tr>\n",
       "    <tr>\n",
       "      <th>mean</th>\n",
       "      <td>52.487005</td>\n",
       "      <td>-1.368884</td>\n",
       "      <td>1.356882</td>\n",
       "      <td>1.829063</td>\n",
       "      <td>38.866037</td>\n",
       "    </tr>\n",
       "    <tr>\n",
       "      <th>std</th>\n",
       "      <td>1.339011</td>\n",
       "      <td>1.356092</td>\n",
       "      <td>0.815857</td>\n",
       "      <td>0.710477</td>\n",
       "      <td>14.032933</td>\n",
       "    </tr>\n",
       "    <tr>\n",
       "      <th>min</th>\n",
       "      <td>49.914488</td>\n",
       "      <td>-7.516225</td>\n",
       "      <td>1.000000</td>\n",
       "      <td>1.000000</td>\n",
       "      <td>10.000000</td>\n",
       "    </tr>\n",
       "    <tr>\n",
       "      <th>25%</th>\n",
       "      <td>51.485248</td>\n",
       "      <td>-2.247937</td>\n",
       "      <td>1.000000</td>\n",
       "      <td>1.000000</td>\n",
       "      <td>30.000000</td>\n",
       "    </tr>\n",
       "    <tr>\n",
       "      <th>50%</th>\n",
       "      <td>52.225943</td>\n",
       "      <td>-1.349258</td>\n",
       "      <td>1.000000</td>\n",
       "      <td>2.000000</td>\n",
       "      <td>30.000000</td>\n",
       "    </tr>\n",
       "    <tr>\n",
       "      <th>75%</th>\n",
       "      <td>53.415517</td>\n",
       "      <td>-0.206810</td>\n",
       "      <td>1.000000</td>\n",
       "      <td>2.000000</td>\n",
       "      <td>50.000000</td>\n",
       "    </tr>\n",
       "    <tr>\n",
       "      <th>max</th>\n",
       "      <td>60.598055</td>\n",
       "      <td>1.759398</td>\n",
       "      <td>48.000000</td>\n",
       "      <td>32.000000</td>\n",
       "      <td>70.000000</td>\n",
       "    </tr>\n",
       "  </tbody>\n",
       "</table>\n",
       "</div>"
      ],
      "text/plain": [
       "            Latitude      Longitude  Number_of_Casualties  Number_of_Vehicles  \\\n",
       "count  307973.000000  307973.000000         307973.000000       307973.000000   \n",
       "mean       52.487005      -1.368884              1.356882            1.829063   \n",
       "std         1.339011       1.356092              0.815857            0.710477   \n",
       "min        49.914488      -7.516225              1.000000            1.000000   \n",
       "25%        51.485248      -2.247937              1.000000            1.000000   \n",
       "50%        52.225943      -1.349258              1.000000            2.000000   \n",
       "75%        53.415517      -0.206810              1.000000            2.000000   \n",
       "max        60.598055       1.759398             48.000000           32.000000   \n",
       "\n",
       "         Speed_limit  \n",
       "count  307973.000000  \n",
       "mean       38.866037  \n",
       "std        14.032933  \n",
       "min        10.000000  \n",
       "25%        30.000000  \n",
       "50%        30.000000  \n",
       "75%        50.000000  \n",
       "max        70.000000  "
      ]
     },
     "execution_count": 5,
     "metadata": {},
     "output_type": "execute_result"
    }
   ],
   "source": [
    "data[['Latitude', 'Longitude', 'Number_of_Casualties', 'Number_of_Vehicles', 'Speed_limit']].describe()"
   ]
  },
  {
   "cell_type": "markdown",
   "metadata": {},
   "source": [
    "Distribution des catégories pour quelques colonnes\n"
   ]
  },
  {
   "cell_type": "code",
   "execution_count": 6,
   "metadata": {},
   "outputs": [
    {
     "name": "stdout",
     "output_type": "stream",
     "text": [
      "Accident_Severity\n",
      "Slight     263280\n",
      "Serious     40740\n",
      "Fatal        3904\n",
      "Fetal          49\n",
      "Name: count, dtype: int64\n",
      "Road_Type\n",
      "Single carriageway    232146\n",
      "Dual carriageway       45467\n",
      "Roundabout             20929\n",
      "One way street          6197\n",
      "Slip road               3234\n",
      "Name: count, dtype: int64\n",
      "Weather_Conditions\n",
      "Fine no high winds       250553\n",
      "Raining no high winds     34877\n",
      "Other                      8802\n",
      "Snowing no high winds      4839\n",
      "Raining + high winds       3526\n",
      "Fine + high winds          3148\n",
      "Fog or mist                1690\n",
      "Snowing + high winds        538\n",
      "Name: count, dtype: int64\n"
     ]
    }
   ],
   "source": [
    "print(data['Accident_Severity'].value_counts())\n",
    "print(data['Road_Type'].value_counts())\n",
    "print(data['Weather_Conditions'].value_counts())"
   ]
  },
  {
   "cell_type": "markdown",
   "metadata": {},
   "source": [
    "3. Prétraitement des données\n"
   ]
  },
  {
   "cell_type": "markdown",
   "metadata": {},
   "source": [
    "Suppression des colonnes inutiles\n"
   ]
  },
  {
   "cell_type": "code",
   "execution_count": 7,
   "metadata": {},
   "outputs": [],
   "source": [
    "columns_to_drop = ['Accident_Index', 'Police_Force', 'Carriageway_Hazards']\n",
    "data = data.drop(columns=[col for col in columns_to_drop if col in data.columns], errors='ignore')"
   ]
  },
  {
   "cell_type": "markdown",
   "metadata": {},
   "source": [
    "Encodage des colonnes catégorielles\n"
   ]
  },
  {
   "cell_type": "code",
   "execution_count": 8,
   "metadata": {},
   "outputs": [],
   "source": [
    "from sklearn.preprocessing import LabelEncoder\n",
    "\n",
    "categorical_columns = [\n",
    "    'Day_of_Week', 'Junction_Control', 'Junction_Detail', 'Accident_Severity',\n",
    "    'Light_Conditions', 'Local_Authority_(District)', 'Road_Surface_Conditions',\n",
    "    'Road_Type', 'Urban_or_Rural_Area', 'Weather_Conditions', 'Vehicle_Type'\n",
    "]\n",
    "\n",
    "# Remplir les valeurs manquantes dans les colonnes catégorielles\n",
    "data[categorical_columns] = data[categorical_columns].fillna('Unknown')\n",
    "\n",
    "# Encodage avec LabelEncoder\n",
    "label_encoder = LabelEncoder()\n",
    "for col in categorical_columns:\n",
    "    data[col] = label_encoder.fit_transform(data[col])"
   ]
  },
  {
   "cell_type": "markdown",
   "metadata": {},
   "source": [
    "Traitement de la colonne 'Date'\n"
   ]
  },
  {
   "cell_type": "code",
   "execution_count": 9,
   "metadata": {},
   "outputs": [],
   "source": [
    "if 'Date' in data.columns:\n",
    "    data['Date'] = pd.to_datetime(data['Date'], format='%m/%d/%Y', errors='coerce')\n",
    "    data['Year'] = data['Date'].dt.year\n",
    "    data['Month'] = data['Date'].dt.month\n",
    "    data['Day'] = data['Date'].dt.day\n",
    "    data = data.drop('Date', axis=1)"
   ]
  },
  {
   "cell_type": "markdown",
   "metadata": {},
   "source": [
    "Traitement de la colonne 'Time'\n"
   ]
  },
  {
   "cell_type": "code",
   "execution_count": 10,
   "metadata": {},
   "outputs": [],
   "source": [
    "if 'Time' in data.columns:\n",
    "    data['Time'] = pd.to_datetime(data['Time'], format='%H:%M', errors='coerce').dt.hour * 60 + \\\n",
    "                   pd.to_datetime(data['Time'], format='%H:%M', errors='coerce').dt.minute"
   ]
  },
  {
   "cell_type": "markdown",
   "metadata": {},
   "source": [
    "Normalisation des colonnes numériques\n"
   ]
  },
  {
   "cell_type": "code",
   "execution_count": 11,
   "metadata": {},
   "outputs": [],
   "source": [
    "from sklearn.preprocessing import StandardScaler\n",
    "\n",
    "numerical_columns = ['Latitude', 'Longitude', 'Speed_limit', 'Number_of_Casualties', 'Number_of_Vehicles']\n",
    "scaler = StandardScaler()\n",
    "data[numerical_columns] = scaler.fit_transform(data[numerical_columns])"
   ]
  },
  {
   "cell_type": "markdown",
   "metadata": {},
   "source": [
    "4. Équilibrage des classes avec SMOTE\n"
   ]
  },
  {
   "cell_type": "code",
   "execution_count": 12,
   "metadata": {},
   "outputs": [
    {
     "name": "stdout",
     "output_type": "stream",
     "text": [
      "Distribution des classes après SMOTE : Counter({2: 263280, 3: 263280, 1: 263280, 0: 263280})\n"
     ]
    }
   ],
   "source": [
    "from imblearn.over_sampling import SMOTE\n",
    "from collections import Counter\n",
    "\n",
    "features = [\n",
    "    'Junction_Control', 'Junction_Detail', 'Light_Conditions', 'Road_Surface_Conditions',\n",
    "    'Road_Type', 'Speed_limit', 'Urban_or_Rural_Area', 'Weather_Conditions', 'Vehicle_Type',\n",
    "    'Number_of_Casualties', 'Number_of_Vehicles', 'Latitude', 'Longitude'\n",
    "]\n",
    "\n",
    "X = data[features]\n",
    "y = data['Accident_Severity']\n",
    "\n",
    "# Appliquer SMOTE\n",
    "smote = SMOTE(random_state=42)\n",
    "X_resampled, y_resampled = smote.fit_resample(X, y)\n",
    "\n",
    "print(\"Distribution des classes après SMOTE :\", Counter(y_resampled))"
   ]
  },
  {
   "cell_type": "markdown",
   "metadata": {},
   "source": [
    "5. Division des données en ensembles d'entraînement et de test\n"
   ]
  },
  {
   "cell_type": "code",
   "execution_count": 13,
   "metadata": {},
   "outputs": [
    {
     "name": "stdout",
     "output_type": "stream",
     "text": [
      "Taille de X_train : (842496, 13)\n",
      "Taille de X_test : (210624, 13)\n",
      "Taille de y_train : (842496,)\n",
      "Taille de y_test : (210624,)\n"
     ]
    }
   ],
   "source": [
    "from sklearn.model_selection import train_test_split\n",
    "\n",
    "X_train, X_test, y_train, y_test = train_test_split(X_resampled, y_resampled, test_size=0.2, random_state=42)\n",
    "\n",
    "print(\"Taille de X_train :\", X_train.shape)\n",
    "print(\"Taille de X_test :\", X_test.shape)\n",
    "print(\"Taille de y_train :\", y_train.shape)\n",
    "print(\"Taille de y_test :\", y_test.shape)"
   ]
  },
  {
   "cell_type": "markdown",
   "metadata": {},
   "source": [
    "6. Modélisation et évaluation\n"
   ]
  },
  {
   "cell_type": "markdown",
   "metadata": {},
   "source": [
    "Random Forest Classifier\n"
   ]
  },
  {
   "cell_type": "code",
   "execution_count": 14,
   "metadata": {},
   "outputs": [
    {
     "name": "stdout",
     "output_type": "stream",
     "text": [
      "Rapport de classification pour Random Forest :\n",
      "              precision    recall  f1-score   support\n",
      "\n",
      "           0       0.93      0.96      0.94     52634\n",
      "           1       1.00      1.00      1.00     52770\n",
      "           2       0.80      0.80      0.80     52623\n",
      "           3       0.81      0.78      0.80     52597\n",
      "\n",
      "    accuracy                           0.89    210624\n",
      "   macro avg       0.88      0.89      0.88    210624\n",
      "weighted avg       0.88      0.89      0.88    210624\n",
      "\n",
      "Matrice de confusion pour Random Forest :\n",
      "[[50578    32   961  1063]\n",
      " [    0 52767     0     3]\n",
      " [ 1971    16 41945  8691]\n",
      " [ 1984    17  9356 41240]]\n"
     ]
    }
   ],
   "source": [
    "from sklearn.ensemble import RandomForestClassifier\n",
    "from sklearn.metrics import classification_report, confusion_matrix\n",
    "\n",
    "rf_model = RandomForestClassifier(random_state=42)\n",
    "rf_model.fit(X_train, y_train)\n",
    "y_pred_rf = rf_model.predict(X_test)\n",
    "\n",
    "print(\"Rapport de classification pour Random Forest :\")\n",
    "print(classification_report(y_test, y_pred_rf))\n",
    "print(\"Matrice de confusion pour Random Forest :\")\n",
    "print(confusion_matrix(y_test, y_pred_rf))"
   ]
  },
  {
   "cell_type": "markdown",
   "metadata": {},
   "source": [
    "K-Nearest Neighbors (KNN)\n"
   ]
  },
  {
   "cell_type": "code",
   "execution_count": 15,
   "metadata": {},
   "outputs": [
    {
     "name": "stdout",
     "output_type": "stream",
     "text": [
      "Rapport de classification pour KNN :\n",
      "              precision    recall  f1-score   support\n",
      "\n",
      "           0       0.88      0.96      0.92     52634\n",
      "           1       1.00      1.00      1.00     52770\n",
      "           2       0.72      0.81      0.76     52623\n",
      "           3       0.80      0.62      0.70     52597\n",
      "\n",
      "    accuracy                           0.85    210624\n",
      "   macro avg       0.85      0.85      0.84    210624\n",
      "weighted avg       0.85      0.85      0.84    210624\n",
      "\n",
      "Matrice de confusion pour KNN :\n",
      "[[50653    75  1132   774]\n",
      " [    1 52767     0     2]\n",
      " [ 2834    60 42506  7223]\n",
      " [ 4358    96 15371 32772]]\n"
     ]
    }
   ],
   "source": [
    "from sklearn.neighbors import KNeighborsClassifier\n",
    "\n",
    "knn_model = KNeighborsClassifier(n_neighbors=5)\n",
    "knn_model.fit(X_train, y_train)\n",
    "y_pred_knn = knn_model.predict(X_test)\n",
    "\n",
    "print(\"Rapport de classification pour KNN :\")\n",
    "print(classification_report(y_test, y_pred_knn))\n",
    "print(\"Matrice de confusion pour KNN :\")\n",
    "print(confusion_matrix(y_test, y_pred_knn))"
   ]
  },
  {
   "cell_type": "markdown",
   "metadata": {},
   "source": [
    "Decision Tree Classifier\n"
   ]
  },
  {
   "cell_type": "code",
   "execution_count": 16,
   "metadata": {},
   "outputs": [
    {
     "name": "stdout",
     "output_type": "stream",
     "text": [
      "Rapport de classification pour Decision Tree :\n",
      "              precision    recall  f1-score   support\n",
      "\n",
      "           0       0.62      0.73      0.67     52634\n",
      "           1       0.95      1.00      0.97     52770\n",
      "           2       0.50      0.33      0.40     52623\n",
      "           3       0.58      0.64      0.61     52597\n",
      "\n",
      "    accuracy                           0.67    210624\n",
      "   macro avg       0.66      0.67      0.66    210624\n",
      "weighted avg       0.66      0.67      0.66    210624\n",
      "\n",
      "Matrice de confusion pour Decision Tree :\n",
      "[[38321  1514  7090  5709]\n",
      " [    1 52768     1     0]\n",
      " [15775   688 17503 18657]\n",
      " [ 7919   720 10427 33531]]\n"
     ]
    }
   ],
   "source": [
    "from sklearn.tree import DecisionTreeClassifier\n",
    "\n",
    "dt_model = DecisionTreeClassifier(max_depth=10, min_samples_split=20, min_samples_leaf=10, class_weight='balanced', random_state=42)\n",
    "dt_model.fit(X_train, y_train)\n",
    "y_pred_dt = dt_model.predict(X_test)\n",
    "\n",
    "print(\"Rapport de classification pour Decision Tree :\")\n",
    "print(classification_report(y_test, y_pred_dt))\n",
    "print(\"Matrice de confusion pour Decision Tree :\")\n",
    "print(confusion_matrix(y_test, y_pred_dt))"
   ]
  },
  {
   "cell_type": "markdown",
   "metadata": {},
   "source": [
    "Régression Logistique\n"
   ]
  },
  {
   "cell_type": "code",
   "execution_count": 17,
   "metadata": {},
   "outputs": [
    {
     "name": "stdout",
     "output_type": "stream",
     "text": [
      "Rapport de classification pour la régression logistique :\n",
      "              precision    recall  f1-score   support\n",
      "\n",
      "           0       0.50      0.59      0.54     52634\n",
      "           1       0.66      1.00      0.80     52770\n",
      "           2       0.42      0.22      0.29     52623\n",
      "           3       0.50      0.39      0.44     52597\n",
      "\n",
      "    accuracy                           0.55    210624\n",
      "   macro avg       0.52      0.55      0.52    210624\n",
      "weighted avg       0.52      0.55      0.52    210624\n",
      "\n",
      "Matrice de confusion pour la régression logistique :\n",
      "[[31199  7106  7299  7030]\n",
      " [    0 52770     0     0]\n",
      " [18486  9205 11549 13383]\n",
      " [12578 10655  8609 20755]]\n"
     ]
    }
   ],
   "source": [
    "from sklearn.linear_model import LogisticRegression\n",
    "\n",
    "log_reg_model = LogisticRegression(max_iter=1000, random_state=42)\n",
    "log_reg_model.fit(X_train, y_train)\n",
    "y_pred_log_reg = log_reg_model.predict(X_test)\n",
    "\n",
    "print(\"Rapport de classification pour la régression logistique :\")\n",
    "print(classification_report(y_test, y_pred_log_reg))\n",
    "print(\"Matrice de confusion pour la régression logistique :\")\n",
    "print(confusion_matrix(y_test, y_pred_log_reg))"
   ]
  },
  {
   "cell_type": "markdown",
   "metadata": {},
   "source": [
    "K-Means Clustering\n"
   ]
  },
  {
   "cell_type": "code",
   "execution_count": 18,
   "metadata": {},
   "outputs": [
    {
     "name": "stdout",
     "output_type": "stream",
     "text": [
      "Silhouette Score: 0.29\n"
     ]
    }
   ],
   "source": [
    "from sklearn.cluster import KMeans\n",
    "\n",
    "kmeans = KMeans(n_clusters=4, random_state=42)\n",
    "kmeans.fit(X_train)\n",
    "y_pred_kmeans = kmeans.predict(X_test)\n",
    "\n",
    "from sklearn.metrics import silhouette_score\n",
    "import matplotlib.pyplot as plt\n",
    "import seaborn as sns\n",
    "\n",
    "# Évaluation du modèle avec le score de silhouette\n",
    "silhouette_avg = silhouette_score(X_test, y_pred_kmeans)\n",
    "print(f\"Silhouette Score: {silhouette_avg:.2f}\")\n"
   ]
  },
  {
   "cell_type": "markdown",
   "metadata": {},
   "source": [
    "Support Vector Machine (SVM)\n"
   ]
  },
  {
   "cell_type": "code",
   "execution_count": 36,
   "metadata": {},
   "outputs": [],
   "source": [
    "from sklearn.svm import SVC\n",
    "\n",
    "svm_model = SVC(kernel='linear', random_state=42)\n",
    "svm_model.fit(X_train, y_train)\n",
    "y_pred_svm = svm_model.predict(X_test)\n",
    "\n",
    "print(\"Rapport de classification pour SVM :\")\n",
    "print(classification_report(y_test, y_pred_svm))\n",
    "print(\"Matrice de confusion pour SVM :\")\n",
    "print(confusion_matrix(y_test, y_pred_svm))"
   ]
  }
 ],
 "metadata": {
  "kernelspec": {
   "display_name": "base",
   "language": "python",
   "name": "python3"
  },
  "language_info": {
   "codemirror_mode": {
    "name": "ipython",
    "version": 3
   },
   "file_extension": ".py",
   "mimetype": "text/x-python",
   "name": "python",
   "nbconvert_exporter": "python",
   "pygments_lexer": "ipython3",
   "version": "3.12.7"
  }
 },
 "nbformat": 4,
 "nbformat_minor": 2
}
